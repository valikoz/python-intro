{
 "cells": [
  {
   "cell_type": "markdown",
   "metadata": {},
   "source": [
    "# Черепаха 🐢"
   ]
  },
  {
   "cell_type": "markdown",
   "metadata": {},
   "source": [
    "Примеры выполнения заданий из первой темы. "
   ]
  },
  {
   "cell_type": "markdown",
   "metadata": {},
   "source": [
    "Проимпортируем библиотеку `turtle`"
   ]
  },
  {
   "cell_type": "code",
   "execution_count": 14,
   "metadata": {},
   "outputs": [],
   "source": [
    "import turtle"
   ]
  },
  {
   "cell_type": "markdown",
   "metadata": {},
   "source": [
    "В дальнейшем писать `import turtle` в каждом блоке кода не обязательно. \n",
    "Но в случае закрытия сессии, нужно будет снова вычислить предыдущую ячейку."
   ]
  },
  {
   "cell_type": "markdown",
   "metadata": {},
   "source": [
    "# Квадрат\n",
    "Квадрат получается из буквы `S` заменой команд `right(90)` на `left(90)`."
   ]
  },
  {
   "cell_type": "code",
   "execution_count": 15,
   "metadata": {},
   "outputs": [],
   "source": [
    "turtle.shape('turtle')\n",
    "\n",
    "turtle.forward(100)\n",
    "turtle.left(90)\n",
    "turtle.forward(100)\n",
    "turtle.left(90)\n",
    "turtle.forward(100)\n",
    "turtle.left(90)\n",
    "turtle.forward(100)\n",
    "turtle.left(90)\n",
    "\n",
    "turtle.done()\n"
   ]
  },
  {
   "cell_type": "markdown",
   "metadata": {},
   "source": [
    "Прослеживается закономерность. Используя цикл `for`, можем написать"
   ]
  },
  {
   "cell_type": "code",
   "execution_count": 17,
   "metadata": {},
   "outputs": [],
   "source": [
    "turtle.shape('turtle')\n",
    "\n",
    "for _ in range(4):\n",
    "    turtle.forward(100)\n",
    "    turtle.left(90)\n",
    "\n",
    "turtle.done()\n"
   ]
  },
  {
   "cell_type": "markdown",
   "metadata": {},
   "source": [
    "Выше символ нижнего *подчеркивания* `_` используется для того, чтобы *подчеркнуть*, что переменная нужна лишь для \n",
    "генерации цикла и в дальнейшем не используется. \n",
    "\n",
    "Квадрат -- это правильный четырёхугольник. Значит для того, чтобы нарисовать все стороны понадобится 4 итерации в цикле. Угол $\\alpha$ между сторонами квадрата вычисляется по формуле $\\alpha = 360/4 = 90$.\n",
    "Можно обобщить этот результат для правильного $n$-угольника."
   ]
  },
  {
   "cell_type": "code",
   "execution_count": 21,
   "metadata": {},
   "outputs": [],
   "source": [
    "turtle.shape('turtle')\n",
    "\n",
    "n = 5\n",
    "for _ in range(n):\n",
    "    turtle.forward(100)\n",
    "    turtle.left(360 / n)\n",
    "\n",
    "turtle.done()"
   ]
  },
  {
   "cell_type": "markdown",
   "metadata": {},
   "source": [
    "# Окружность\n",
    "В библиотеке `turtle` есть встроенная функция `circle(r)`, которая рисует окружность заданного радиуса `r` в пикселях. "
   ]
  },
  {
   "cell_type": "code",
   "execution_count": 9,
   "metadata": {},
   "outputs": [],
   "source": [
    "turtle.shape('turtle')\n",
    "turtle.circle(100)\n",
    "turtle.done()"
   ]
  },
  {
   "cell_type": "markdown",
   "metadata": {},
   "source": [
    "Несмотря на это, требуется построить окружность используя циклы. Определим правильный многоугольник \n",
    "с 50 сторонами по 10 пикселей"
   ]
  },
  {
   "cell_type": "code",
   "execution_count": 6,
   "metadata": {},
   "outputs": [],
   "source": [
    "# Set the number of sides of the polygon (the more sides, the closer to a circle)\n",
    "num_sides = 50\n",
    "side_length = 10  # Length of each side\n"
   ]
  },
  {
   "cell_type": "markdown",
   "metadata": {},
   "source": [
    "По известной формуле находим угол `angle`, на который должна поворачиваться черепаха после \n",
    "прорисовки каждой стороны"
   ]
  },
  {
   "cell_type": "code",
   "execution_count": 10,
   "metadata": {},
   "outputs": [],
   "source": [
    "# Calculate the angle for turning\n",
    "angle = 360 / num_sides"
   ]
  },
  {
   "cell_type": "markdown",
   "metadata": {},
   "source": [
    "Далее используем цикл `for` "
   ]
  },
  {
   "cell_type": "code",
   "execution_count": 15,
   "metadata": {},
   "outputs": [],
   "source": [
    "turtle.shape('turtle')\n",
    "\n",
    "# Draw the polygon\n",
    "for _ in range(num_sides):\n",
    "    turtle.left(angle)\n",
    "    turtle.forward(side_length)\n",
    "\n",
    "turtle.done()\n"
   ]
  },
  {
   "cell_type": "markdown",
   "metadata": {},
   "source": [
    "<img src=\"../../images/01/circle.gif\" style=\"max-width: 100%; height: auto; border-radius: 8px; box-shadow: 0 4px 8px rgba(0, 0, 0, -1);\">"
   ]
  },
  {
   "cell_type": "markdown",
   "metadata": {},
   "source": [
    "На гифке можно заметить, что черепаха прыгает из центра окружности вправо. Чтобы добиться такого же результата, нужно вычислить\n",
    "радиус описанной (или вписанной) окружности по формуле $R = {a} / ({2 \\sin \\frac{\\pi}{n}})$, переместить черепаху в точку с\n",
    "координатами (R, 0) и не забыть повернуть ее на 90 градусов. "
   ]
  },
  {
   "cell_type": "code",
   "execution_count": 7,
   "metadata": {},
   "outputs": [],
   "source": [
    "import turtle\n",
    "import math\n",
    "\n",
    "# Create a turtle instance\n",
    "turtle.shape('turtle')\n",
    "\n",
    "# Set the number of sides of the polygon (the more sides, the closer to a circle)\n",
    "num_sides = 50\n",
    "side_length = 10  # Length of each side\n",
    "\n",
    "# Calculate the angle for turning\n",
    "angle = 360 / num_sides\n",
    "\n",
    "# Calculate the radius of circle\n",
    "radius = side_length / (2 * math.sin(math.pi / num_sides))\n",
    "\n",
    "# Set start position\n",
    "turtle.penup()\n",
    "turtle.goto(radius, 0)\n",
    "turtle.left(90)\n",
    "turtle.pendown()\n",
    "\n",
    "# Draw the polygon\n",
    "for _ in range(num_sides):\n",
    "    turtle.left(angle)\n",
    "    turtle.forward(side_length)\n",
    "\n",
    "turtle.done()"
   ]
  }
 ],
 "metadata": {
  "kernelspec": {
   "display_name": "jupyter",
   "language": "python",
   "name": "python3"
  },
  "language_info": {
   "codemirror_mode": {
    "name": "ipython",
    "version": 3
   },
   "file_extension": ".py",
   "mimetype": "text/x-python",
   "name": "python",
   "nbconvert_exporter": "python",
   "pygments_lexer": "ipython3",
   "version": "3.12.4"
  }
 },
 "nbformat": 4,
 "nbformat_minor": 2
}
